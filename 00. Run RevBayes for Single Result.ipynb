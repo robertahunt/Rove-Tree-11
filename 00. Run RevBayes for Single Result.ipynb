{
 "cells": [
  {
   "cell_type": "code",
   "execution_count": 28,
   "id": "086b3e92",
   "metadata": {},
   "outputs": [],
   "source": [
    "import os\n",
    "import shutil\n",
    "import pandas as pd\n",
    "\n",
    "from ete3 import Tree\n",
    "from copy import deepcopy\n",
    "from subprocess import Popen, PIPE\n",
    "from utils.revbayes import revbayes_template, treealign, read_nexus_sum_into_ete3"
   ]
  },
  {
   "cell_type": "code",
   "execution_count": 29,
   "id": "5ad3abfc",
   "metadata": {},
   "outputs": [],
   "source": [
    "# load ground truth phylogeny\n",
    "gt = Tree('phylogeny.nh')\n",
    "\n",
    "# uncomment to visualize phylogeny\n",
    "# print(gt)\n",
    "# gt.show()"
   ]
  },
  {
   "cell_type": "code",
   "execution_count": 30,
   "id": "a4847257",
   "metadata": {},
   "outputs": [
    {
     "data": {
      "text/plain": [
       "run               /mnt/cluster/Training_Results/rove/ROVE_RESNET...\n",
       "Train_nmi                                                 91.470793\n",
       "Train_recall@1                                            96.355753\n",
       "Val_nmi                                                   70.826816\n",
       "Val_recall@1                                               87.70175\n",
       "Test_nmi                                                  66.911117\n",
       "Test_recall@1                                             86.163522\n",
       "Val_Align                                                   7.89753\n",
       "Val_Max                                                        21.5\n",
       "Test_Align                                                  3.52493\n",
       "Test_Max                                                       10.5\n",
       "dtype: object"
      ]
     },
     "execution_count": 30,
     "metadata": {},
     "output_type": "execute_result"
    }
   ],
   "source": [
    "run = '/mnt/cluster/Training_Results/rove/ROVE_RESNET50_FROZEN_NORMALIZE_multisim4_2022-9-8-9-46-4'\n",
    "\n",
    "#out dir cannot have certain characters in it, or perhaps be too long, otherwise revbayes will not run on it\n",
    "out_dir = '/home/rob/revbayes_run' \n",
    "\n",
    "print_output = True\n",
    "\n",
    "nmi_fp = os.path.join(run,'CSV_Logs',f'Data_Test_discriminative_nmi.csv')\n",
    "traits_fp = os.path.join(run, 'traits_discriminative_Test.nex')\n",
    "\n",
    "if os.path.exists(nmi_fp) and os.path.exists(traits_fp):\n",
    "    nmi = pd.read_csv(nmi_fp)\n",
    "\n",
    "    if not os.path.exists(out_dir):\n",
    "        os.makedirs(out_dir)\n",
    "\n",
    "    sub_out = [run]\n",
    "\n",
    "    for _set in ['Train','Val','Test']:\n",
    "        nmi_fp = os.path.join(run,'CSV_Logs',f'Data_{_set}_discriminative_nmi.csv')\n",
    "        recall_fp = os.path.join(run,'CSV_Logs',f'Data_{_set}_discriminative_e_recall.csv')\n",
    "        if os.path.exists(nmi_fp) and os.path.exists(recall_fp):\n",
    "            nmi = pd.read_csv(nmi_fp)\n",
    "            recall = pd.read_csv(recall_fp)\n",
    "            if len(nmi) < 50:\n",
    "                continue\n",
    "            sub_out += [nmi.max().iloc[0]*100,recall.max().iloc[0]*100]\n",
    "\n",
    "    for _set in ['Val','Test']:\n",
    "        out_tree_dir = os.path.join(out_dir, _set)\n",
    "        if not os.path.exists(out_tree_dir):\n",
    "            os.makedirs(out_tree_dir)\n",
    "\n",
    "        out_tree_fp = os.path.join(out_tree_dir, 'OUTSUMFILE')\n",
    "        if not os.path.exists(out_tree_fp):\n",
    "\n",
    "            traits_fp = os.path.join(run, f'traits_discriminative_{_set}.nex')\n",
    "            #copy traits file to somewhere we can run,\n",
    "            new_traits_fp = os.path.join(out_tree_dir,f'traits_discriminative_{_set}.nex')\n",
    "            shutil.copy(traits_fp, new_traits_fp)\n",
    "\n",
    "            #make rev file somewhere we can run, pointing to traits file and output files for trees\n",
    "            bayes_str = revbayes_template.format(_dir=out_tree_dir, _set=_set)\n",
    "            bayes_fp = os.path.join(out_dir,'run_traits.rev')\n",
    "            with open(bayes_fp, 'w') as f:\n",
    "                f.write(bayes_str)\n",
    "            assert os.path.exists(bayes_fp), bayes_fp\n",
    "            print(bayes_fp)\n",
    "\n",
    "            print('About to start')\n",
    "            #run rev file\n",
    "            cmd = ['singularity', 'run', '--app', 'rb', 'RevBayes_Singularity_1.1.1.simg', bayes_fp]\n",
    "            if print_output == True:\n",
    "                with Popen(cmd, stdout=PIPE, bufsize=1, universal_newlines=True) as p:\n",
    "                    for line in p.stdout:\n",
    "                        print(line, end='') # process line here\n",
    "            else:\n",
    "                output = subprocess.run(cmd, capture_output=True)\n",
    "\n",
    "        #read in tree and convert to newick format\n",
    "        tree = read_nexus_sum_into_ete3(out_tree_fp)\n",
    "\n",
    "        #make as ete3, compare tree with ground truth tree.\n",
    "        #gtt = make_ground_truth_phylogenetic_tree('cub200_phylogeny.csv', tree2=tree, level='species')\n",
    "        if _set == 'Val':\n",
    "            val_gt = deepcopy(gt)\n",
    "            val_gt.prune([x.name for x in tree.get_leaves()])\n",
    "            #save align score\n",
    "            align, align_max = treealign(tree,val_gt)\n",
    "        else:\n",
    "            test_gt = deepcopy(gt)\n",
    "            test_gt.prune([x.name for x in tree.get_leaves()])\n",
    "            #save align score\n",
    "            align, align_max = treealign(tree,test_gt)\n",
    "\n",
    "\n",
    "        sub_out += [align, align_max]\n",
    "\n",
    "ser = pd.Series(sub_out,index=['run','Train_nmi','Train_recall@1','Val_nmi','Val_recall@1','Test_nmi','Test_recall@1','Val_Align','Val_Max','Test_Align', 'Test_Max'])\n",
    "ser       "
   ]
  },
  {
   "cell_type": "code",
   "execution_count": null,
   "id": "6550f8ad",
   "metadata": {},
   "outputs": [],
   "source": []
  }
 ],
 "metadata": {
  "kernelspec": {
   "display_name": "Python 3",
   "language": "python",
   "name": "python3"
  },
  "language_info": {
   "codemirror_mode": {
    "name": "ipython",
    "version": 3
   },
   "file_extension": ".py",
   "mimetype": "text/x-python",
   "name": "python",
   "nbconvert_exporter": "python",
   "pygments_lexer": "ipython3",
   "version": "3.9.0"
  }
 },
 "nbformat": 4,
 "nbformat_minor": 5
}
