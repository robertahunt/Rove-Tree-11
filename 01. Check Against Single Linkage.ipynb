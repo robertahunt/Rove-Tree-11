{
 "cells": [
  {
   "cell_type": "code",
   "execution_count": 8,
   "id": "7751320d",
   "metadata": {},
   "outputs": [
    {
     "data": {
      "text/plain": [
       "(4.396199633699634, 10.5)"
      ]
     },
     "execution_count": 8,
     "metadata": {},
     "output_type": "execute_result"
    }
   ],
   "source": [
    "from ete3 import Tree\n",
    "from utils.revbayes import make_tree_from_results_using_linkage, treealign\n",
    "\n",
    "# This is a small sanity check that RevBayes with the settings used is at least as good as single linkage\n",
    "\n",
    "# load ground truth phylogeny\n",
    "gt = Tree('phylogeny.nh')\n",
    "\n",
    "folder = '/mnt/cluster/Training_Results/rove/ROVE_RESNET50_FROZEN_NORMALIZE_multisim4_2022-9-8-9-46-4/'\n",
    "tree = make_tree_from_results_using_linkage(folder)\n",
    "\n",
    "gt.prune([x for x in tree.get_leaf_names()])\n",
    "\n",
    "treealign(gt, tree) # Rev bayes result was 4.16, better than single linkage! :) "
   ]
  }
 ],
 "metadata": {
  "kernelspec": {
   "display_name": "Python 3",
   "language": "python",
   "name": "python3"
  },
  "language_info": {
   "codemirror_mode": {
    "name": "ipython",
    "version": 3
   },
   "file_extension": ".py",
   "mimetype": "text/x-python",
   "name": "python",
   "nbconvert_exporter": "python",
   "pygments_lexer": "ipython3",
   "version": "3.9.0"
  }
 },
 "nbformat": 4,
 "nbformat_minor": 5
}
